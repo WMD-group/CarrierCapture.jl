{
 "cells": [
  {
   "cell_type": "code",
   "execution_count": 5,
   "metadata": {},
   "outputs": [],
   "source": [
    "using Plots\n",
    "using CSV"
   ]
  },
  {
   "cell_type": "code",
   "execution_count": 19,
   "metadata": {},
   "outputs": [
    {
     "ename": "LoadError",
     "evalue": "syntax: \"\\\" is not a unary operator",
     "output_type": "error",
     "traceback": [
      "syntax: \"\\\" is not a unary operator",
      ""
     ]
    }
   ],
   "source": []
  },
  {
   "cell_type": "code",
   "execution_count": 6,
   "metadata": {},
   "outputs": [
    {
     "data": {
      "text/plain": [
       "11-element Array{Float64,1}:\n",
       " -309.42677\n",
       " -324.29924\n",
       " -326.60558\n",
       " -327.67849\n",
       " -327.91428\n",
       " -327.98879\n",
       " -327.91971\n",
       " -327.72588\n",
       " -327.08045\n",
       " -326.79847\n",
       " -326.66738"
      ]
     },
     "execution_count": 6,
     "metadata": {},
     "output_type": "execute_result"
    }
   ],
   "source": [
    "# import potential data\n",
    "E_Q_1_data = CSV.read(\"Potential1.txt\", header=false, delim=' ')\n",
    "E_Q_2_data = CSV.read(\"Potential2.txt\", header=false, delim=' ')\n",
    "\n",
    "# convert data to matrix\n",
    "E_Q_1 = convert(Matrix, E_Q_1_data)\n",
    "E_Q_2 = convert(Matrix, E_Q_2_data)\n",
    "\n",
    "# extract Q data\n",
    "Q1 = E_Q_1[:,1]\n",
    "Q2 = E_Q_2[:,1]\n",
    "\n",
    "energies_1 = E_Q_1[:,2]\n",
    "energies_2 = E_Q_2[:,2]\n",
    "\n",
    "# extract energies and convert to float\n",
    "E1 = map(x->parse(Float64,x),energies_1)\n",
    "E2 = map(x->parse(Float64,x),energies_2)"
   ]
  },
  {
   "cell_type": "code",
   "execution_count": 23,
   "metadata": {},
   "outputs": [],
   "source": [
    "theme(:wong)\n",
    "Plots.scalefontsizes(1.2)\n",
    "default(size=(1000,600))\n",
    "scatter(Q1,E1,  markershape = :circle,\n",
    "           markersize = 10,\n",
    "           markeralpha = 0.6,\n",
    "           markerstrokewidth = 3,\n",
    "           markerstrokealpha = 0, label = \"Surface 1\")\n",
    "scatter!(Q2,E2,  markershape = :circle,\n",
    "           markersize = 10,\n",
    "           markeralpha = 0.6,\n",
    "           markerstrokewidth = 3,\n",
    "           markerstrokealpha = 0, label = \"Surface 2\")\n",
    "xlabel!(\"Q (amu^(1/2)Å)\")\n",
    "ylabel!(\"E (eV)\")\n",
    "savefig(\"defect_energy_surfaces.pdf\")"
   ]
  },
  {
   "cell_type": "code",
   "execution_count": null,
   "metadata": {},
   "outputs": [],
   "source": []
  }
 ],
 "metadata": {
  "kernelspec": {
   "display_name": "Julia 0.7.0",
   "language": "julia",
   "name": "julia-0.7"
  },
  "language_info": {
   "file_extension": ".jl",
   "mimetype": "application/julia",
   "name": "julia",
   "version": "0.7.0"
  }
 },
 "nbformat": 4,
 "nbformat_minor": 2
}
