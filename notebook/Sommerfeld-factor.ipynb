{
 "cells": [
  {
   "cell_type": "markdown",
   "metadata": {},
   "source": [
    "# Sommerfeld factor"
   ]
  },
  {
   "cell_type": "markdown",
   "metadata": {},
   "source": [
    "## Bohr radius"
   ]
  },
  {
   "cell_type": "markdown",
   "metadata": {},
   "source": [
    "$a_{B}=\\frac{4\\pi\\epsilon_{0}\\hbar^{2}}{m_{e}e^{2}}=5.291772083\\times10^{-11} \\mathrm{m} \n",
    "(0.53 Å)$  \n",
    "$a_{B}^{*}=\\frac{\\epsilon}{m_{e}^{*}/m_{e}}a_{B}$"
   ]
  },
  {
   "cell_type": "code",
   "execution_count": 2,
   "metadata": {},
   "outputs": [],
   "source": [
    "BohrRadius = 5.291772083e-11;                           # m "
   ]
  },
  {
   "cell_type": "code",
   "execution_count": 12,
   "metadata": {},
   "outputs": [
    {
     "data": {
      "text/plain": [
       "333"
      ]
     },
     "execution_count": 12,
     "metadata": {},
     "output_type": "execute_result"
    }
   ],
   "source": [
    "Boltzmann = 1.3806504e-23;                              # kg m^2 / K s^2 \n",
    "ElectronVolt = 1.602176487e-19;                         # kg m^2 / s^2 \n",
    "PlancksConstantHbar = 1.05457162825e-34;                # kg m^2 / s \n",
    "PlancksConstantH = 6.626070040e-34;\n",
    "ElectronCharge = 1.602176487e-19;                       # A s \n",
    "VacuumPermittivity = 8.854187817e-12;                   # A^2 s^4 / kg m^3 \n",
    "MassElectron = 9.10938188e-31;                          # kg\n",
    "\n",
    "T=273+60"
   ]
  },
  {
   "cell_type": "markdown",
   "metadata": {},
   "source": [
    "### Effective masses of CZTS and CZTSe"
   ]
  },
  {
   "cell_type": "code",
   "execution_count": 4,
   "metadata": {},
   "outputs": [
    {
     "name": "stdout",
     "output_type": "stream",
     "text": [
      "2.9104746456500003e-9\n",
      "1.3097135905424999e-9\n",
      "5.2388543621699995e-9\n",
      "2.2777627661608694e-9\n"
     ]
    }
   ],
   "source": [
    "m_e_CZTS = 0.18\n",
    "m_h_CZTS = 0.40\n",
    "m_e_CZTSe = 0.10\n",
    "m_h_CZTSe = 0.23\n",
    "ϵ_0_CZTS = 9.9\n",
    "ϵ_0_CZTSe = 11.4\n",
    "\n",
    "a_B_e_CZTS  = ϵ_0_CZTS/m_e_CZTS*BohrRadius\n",
    "a_B_h_CZTS  = ϵ_0_CZTS/m_h_CZTS*BohrRadius\n",
    "a_B_e_CZTSe = ϵ_0_CZTS/m_e_CZTSe*BohrRadius\n",
    "a_B_h_CZTSe = ϵ_0_CZTS/m_h_CZTSe*BohrRadius\n",
    "\n",
    "println(a_B_e_CZTS)\n",
    "println(a_B_h_CZTS)\n",
    "println(a_B_e_CZTSe)\n",
    "println(a_B_h_CZTSe)"
   ]
  },
  {
   "cell_type": "code",
   "execution_count": 17,
   "metadata": {},
   "outputs": [
    {
     "name": "stdout",
     "output_type": "stream",
     "text": [
      "effective electron dos: 2.21E+24\n",
      "effective hole dos: 7.32E+24\n"
     ]
    }
   ],
   "source": [
    "T = 330\n",
    "NC=2*(2*pi*m_e_CZTS*MassElectron*Boltzmann*T/PlancksConstantH^2)^(3/2.)\n",
    "NV=2*(2*pi*m_h_CZTS*MassElectron*Boltzmann*T/PlancksConstantH^2)^(3/2.)\n",
    "@printf(\"effective electron dos: %.2E\\n\", NC)\n",
    "@printf(\"effective hole dos: %.2E\\n\", NV)"
   ]
  },
  {
   "cell_type": "markdown",
   "metadata": {},
   "source": [
    "# Thermal velocity\n",
    "$v_{t}=\\sqrt(3k_{B}T/m^{*})$"
   ]
  },
  {
   "cell_type": "code",
   "execution_count": 5,
   "metadata": {},
   "outputs": [
    {
     "name": "stdout",
     "output_type": "stream",
     "text": [
      "v_{n}-CZTS: 2.89E+07 cm/s\n",
      "v_{p}-CZTS: 1.94E+07 cm/s\n"
     ]
    }
   ],
   "source": [
    "T = 330\n",
    "@printf(\"v_{n}-CZTS: %.2E cm/s\\n\",sqrt(3*Boltzmann*T/(m_e_CZTS*MassElectron))*100)\n",
    "@printf(\"v_{p}-CZTS: %.2E cm/s\\n\",sqrt(3*Boltzmann*T/(m_h_CZTS*MassElectron))*100)"
   ]
  },
  {
   "cell_type": "markdown",
   "metadata": {},
   "source": [
    "# Sommerfeld Factor\n",
    "\n",
    "see [Landsberg, P. T. Recombination in Semiconductors. (Cambridge University Press, 2009).]"
   ]
  },
  {
   "cell_type": "code",
   "execution_count": 8,
   "metadata": {},
   "outputs": [
    {
     "name": "stdout",
     "output_type": "stream",
     "text": [
      "Attractive Center: 6.6445 \n",
      "Repulsive  Center: 0.0411 \n"
     ]
    }
   ],
   "source": [
    "Z = 1\n",
    "ER=13.6*ElectronCharge * (m_e_CZTS/ϵ_0_CZTS^2)  # Effective Rydberg\n",
    "\n",
    "s=4*Z*(pi*ER/Boltzmann/T)^0.5\n",
    "@printf(\"Attractive Center: %.4f \\n\", s)\n",
    "K=(pi^2*Z^2*ER/Boltzmann/T)\n",
    "s=8/sqrt(3)*K^(2/3.)*exp(-3*K^(1/3.))\n",
    "@printf(\"Repulsive  Center: %.4f \\n\", s)"
   ]
  },
  {
   "cell_type": "code",
   "execution_count": 9,
   "metadata": {},
   "outputs": [
    {
     "name": "stdout",
     "output_type": "stream",
     "text": [
      "Attractive Center: 9.9050 \n",
      "Repulsive  Center: 0.0107 \n"
     ]
    }
   ],
   "source": [
    "Z = 1\n",
    "ER=13.6*ElectronCharge * (m_h_CZTS/ϵ_0_CZTS^2)  # Effective Rydberg\n",
    "\n",
    "s=4*Z*(pi*ER/Boltzmann/T)^0.5\n",
    "@printf(\"Attractive Center: %.4f \\n\", s)\n",
    "K=(pi^2*Z^2*ER/Boltzmann/T)\n",
    "s=8/sqrt(3)*K^(2/3.)*exp(-3*K^(1/3.))\n",
    "@printf(\"Repulsive  Center: %.4f \\n\", s)"
   ]
  },
  {
   "cell_type": "markdown",
   "metadata": {},
   "source": [
    "# ...???"
   ]
  },
  {
   "cell_type": "markdown",
   "metadata": {},
   "source": [
    "R. Pässler, Phys. Status Solidi B 76, 647 (1976).  \n",
    "R. Pässler, Phys. Status Solidi B 78, 625 (1976)."
   ]
  }
 ],
 "metadata": {
  "kernelspec": {
   "display_name": "Julia 0.6.3",
   "language": "julia",
   "name": "julia-0.6"
  },
  "language_info": {
   "file_extension": ".jl",
   "mimetype": "application/julia",
   "name": "julia",
   "version": "0.6.3"
  }
 },
 "nbformat": 4,
 "nbformat_minor": 2
}
