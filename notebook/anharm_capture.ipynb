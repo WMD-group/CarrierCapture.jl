{
 "cells": [
  {
   "cell_type": "markdown",
   "metadata": {},
   "source": [
    "# Capture"
   ]
  },
  {
   "cell_type": "code",
   "execution_count": 2,
   "metadata": {},
   "outputs": [],
   "source": [
    "push!(LOAD_PATH,\"../src/\")\n",
    "\n",
    "# Pkg.add(\"Plots\")\n",
    "# Pkg.clone(\"https://github.com/RedPointyJackson/Brooglie\")\n",
    "using AnharmCaptureRate\n",
    "using Plots\n",
    "using DataFrames\n",
    "# using Brooglie\n",
    "# using PyPlot"
   ]
  },
  {
   "cell_type": "code",
   "execution_count": null,
   "metadata": {},
   "outputs": [],
   "source": [
    "# Pkg.update()"
   ]
  },
  {
   "cell_type": "code",
   "execution_count": 4,
   "metadata": {},
   "outputs": [
    {
     "data": {
      "text/html": [
       "4"
      ],
      "text/plain": [
       "4"
      ]
     },
     "execution_count": 4,
     "metadata": {},
     "output_type": "execute_result"
    }
   ],
   "source": [
    "# import data from two files\n",
    "# Q (first column, amu) and E (second column, eV)\n",
    "pot_1 = readtable(\"../src/Potential_1.csv\")\n",
    "pot_2 = readtable(\"../src/Potential_2.csv\")\n",
    "potential_matrix_1 = convert(Matrix, pot_1)\n",
    "potential_matrix_2 = convert(Matrix, pot_2)\n",
    "poly_order = 4;"
   ]
  },
  {
   "cell_type": "code",
   "execution_count": null,
   "metadata": {},
   "outputs": [],
   "source": [
    "potential_matrix_1"
   ]
  },
  {
   "cell_type": "code",
   "execution_count": 5,
   "metadata": {},
   "outputs": [
    {
     "ename": "LoadError",
     "evalue": "\u001b[91mMethodError: no method matching zero(::Type{Any})\u001b[0m\nClosest candidates are:\n  zero(::Type{Union{Missings.Missing, T}}) where T at /Applications/JuliaPro-0.6.2.2.app/Contents/Resources/pkgs-0.6.2.2/v0.6/Missings/src/Missings.jl:97\n  zero(\u001b[91m::Type{Base.LibGit2.GitHash}\u001b[39m) at libgit2/oid.jl:106\n  zero(\u001b[91m::Type{Base.Pkg.Resolve.VersionWeights.VWPreBuildItem}\u001b[39m) at pkg/resolve/versionweight.jl:82\n  ...\u001b[39m",
     "output_type": "error",
     "traceback": [
      "\u001b[91mMethodError: no method matching zero(::Type{Any})\u001b[0m\nClosest candidates are:\n  zero(::Type{Union{Missings.Missing, T}}) where T at /Applications/JuliaPro-0.6.2.2.app/Contents/Resources/pkgs-0.6.2.2/v0.6/Missings/src/Missings.jl:97\n  zero(\u001b[91m::Type{Base.LibGit2.GitHash}\u001b[39m) at libgit2/oid.jl:106\n  zero(\u001b[91m::Type{Base.Pkg.Resolve.VersionWeights.VWPreBuildItem}\u001b[39m) at pkg/resolve/versionweight.jl:82\n  ...\u001b[39m",
      "",
      "Stacktrace:",
      " [1] \u001b[1mzero\u001b[22m\u001b[22m at \u001b[1m/Applications/JuliaPro-0.6.2.2.app/Contents/Resources/pkgs-0.6.2.2/v0.6/Missings/src/Missings.jl:97\u001b[22m\u001b[22m [inlined]",
      " [2] \u001b[1m#eigs#104\u001b[22m\u001b[22m at \u001b[1m./linalg/arnoldi.jl:97\u001b[22m\u001b[22m [inlined]",
      " [3] \u001b[1m(::Base.LinAlg.#kw##eigs)\u001b[22m\u001b[22m\u001b[1m(\u001b[22m\u001b[22m::Array{Any,1}, ::Base.LinAlg.#eigs, ::SparseMatrixCSC{Any,Int64}, ::UniformScaling{Int64}\u001b[1m)\u001b[22m\u001b[22m at \u001b[1m./<missing>:0\u001b[22m\u001b[22m",
      " [4] \u001b[1m#eigs#99\u001b[22m\u001b[22m\u001b[1m(\u001b[22m\u001b[22m::Array{Any,1}, ::Function, ::SparseMatrixCSC{Any,Int64}\u001b[1m)\u001b[22m\u001b[22m at \u001b[1m./linalg/arnoldi.jl:90\u001b[22m\u001b[22m",
      " [5] \u001b[1m(::Base.LinAlg.#kw##eigs)\u001b[22m\u001b[22m\u001b[1m(\u001b[22m\u001b[22m::Array{Any,1}, ::Base.LinAlg.#eigs, ::SparseMatrixCSC{Any,Int64}\u001b[1m)\u001b[22m\u001b[22m at \u001b[1m./<missing>:0\u001b[22m\u001b[22m",
      " [6] \u001b[1m#solve1D#3\u001b[22m\u001b[22m\u001b[1m(\u001b[22m\u001b[22m::Int64, ::Float64, ::Float64, ::Int64, ::Int64, ::Int64, ::Function, ::Phonon.##2#3{CaptureRate.##1#3{Int64,Array{Float64,1}},Float64}\u001b[1m)\u001b[22m\u001b[22m at \u001b[1m/Applications/JuliaPro-0.6.2.2.app/Contents/Resources/pkgs-0.6.2.2/v0.6/Brooglie/src/Brooglie.jl:69\u001b[22m\u001b[22m",
      " [7] \u001b[1m(::Brooglie.#kw##solve1D)\u001b[22m\u001b[22m\u001b[1m(\u001b[22m\u001b[22m::Array{Any,1}, ::Brooglie.#solve1D, ::Function\u001b[1m)\u001b[22m\u001b[22m at \u001b[1m./<missing>:0\u001b[22m\u001b[22m",
      " [8] \u001b[1m#solve1D_ev_amu#1\u001b[22m\u001b[22m\u001b[1m(\u001b[22m\u001b[22m::Int64, ::Int64, ::Int64, ::Int64, ::Int64, ::Function, ::CaptureRate.##1#3{Int64,Array{Float64,1}}\u001b[1m)\u001b[22m\u001b[22m at \u001b[1m/Users/samhood/Documents/GitHub/carriercapture/src/Phonon.jl:10\u001b[22m\u001b[22m",
      " [9] \u001b[1m(::Phonon.#kw##solve1D_ev_amu)\u001b[22m\u001b[22m\u001b[1m(\u001b[22m\u001b[22m::Array{Any,1}, ::Phonon.#solve1D_ev_amu, ::Function\u001b[1m)\u001b[22m\u001b[22m at \u001b[1m./<missing>:0\u001b[22m\u001b[22m",
      " [10] \u001b[1mcalc_anharm_wave_func\u001b[22m\u001b[22m\u001b[1m(\u001b[22m\u001b[22m::Array{Float64,2}, ::Array{Float64,2}, ::Int64, ::Int64, ::Int64, ::Int64, ::Int64\u001b[1m)\u001b[22m\u001b[22m at \u001b[1m/Users/samhood/Documents/GitHub/carriercapture/src/AnharmCaptureRate.jl:75\u001b[22m\u001b[22m",
      " [11] \u001b[1minclude_string\u001b[22m\u001b[22m\u001b[1m(\u001b[22m\u001b[22m::String, ::String\u001b[1m)\u001b[22m\u001b[22m at \u001b[1m./loading.jl:522\u001b[22m\u001b[22m"
     ]
    }
   ],
   "source": [
    "cc = CaptureRate.calc_anharm_wave_func(potential_matrix_1, potential_matrix_2, poly_order, -10, 10, 100, 10)\n",
    "# default values and inputs: calc_anharm_wave_func(potential_data_1::Array{Float64,2}, potential_data_2::Array{Float64,2}, \n",
    "    #poly_order =4, Qi=-10, Qf=10, NQ=100, nev=10)\n",
    "# CaptureRate.plot_potentials(cc)\n",
    "# ylims!(-2, 2)\n",
    "# xlims!(-4, 3)"
   ]
  },
  {
   "cell_type": "code",
   "execution_count": null,
   "metadata": {},
   "outputs": [],
   "source": [
    "CaptureRate.calc_overlap!(cc; cut_off=0.25, σ=0.01)\n",
    "# Excited state\n",
    "plot!(cc.V1.Q, cc.V1.E, lw=4, color=\"black\")\n",
    "# Ground state\n",
    "plot!(cc.V2.Q, cc.V2.E, lw=4, color=\"black\")\n",
    "\n",
    "ylims!(0, 1)\n",
    "xlims!(-7, 5)"
   ]
  },
  {
   "cell_type": "markdown",
   "metadata": {},
   "source": [
    "# $\\mathrm{GaN:C_N}$"
   ]
  },
  {
   "cell_type": "code",
   "execution_count": null,
   "metadata": {
    "scrolled": true
   },
   "outputs": [],
   "source": [
    "T_range = 1:10:800\n",
    "c = CaptureRate.calc_capt_coeff(6.4E-2, 1.1E-21, T_range, cc)\n",
    "plot(T_range, c*4*6) # degeneracy * Sommerfeld factor\n",
    "yaxis!(\"C (cm^-3/s)\",:log10)\n",
    "xaxis!(\"T (K)\")\n",
    "ylims!(1E-11, 2E-8)"
   ]
  },
  {
   "cell_type": "markdown",
   "metadata": {},
   "source": [
    "# $\\mathrm{ZnO:Li_{Zn}}$"
   ]
  },
  {
   "cell_type": "code",
   "execution_count": null,
   "metadata": {},
   "outputs": [],
   "source": [
    "cc = CaptureRate.calc_harm_wave_func(0.036, 0.025,\n",
    "        -3.22, -0.46; Qi=-10, Qf=5, NQ=1000, nev=60)\n",
    "CaptureRate.plot_potentials(cc)\n",
    "ylims!(-2, 2)\n",
    "xlims!(-10, 5)"
   ]
  },
  {
   "cell_type": "code",
   "execution_count": null,
   "metadata": {},
   "outputs": [],
   "source": [
    "CaptureRate.calc_overlap!(cc; cut_off=0.5, σ=0.025)\n",
    "T_range = 1:10:800\n",
    "c = CaptureRate.calc_capt_coeff(3.9E-2, 1.136E-21, T_range, cc)\n",
    "plot(T_range, c*4*6) # degeneracy * Sommerfeld factor\n",
    "yaxis!(\"C (cm^-3/s)\",:log10)\n",
    "xaxis!(\"T (K)\")\n",
    "ylims!(1E-8, 1E-5)"
   ]
  },
  {
   "cell_type": "markdown",
   "metadata": {},
   "source": [
    "# $\\mathrm{GaN:C_N}$"
   ]
  },
  {
   "cell_type": "code",
   "execution_count": null,
   "metadata": {},
   "outputs": [],
   "source": [
    "cc = CaptureRate.calc_harm_wave_func(0.026, 0.022,\n",
    "        -3.33, -0.88; Qi=-10, Qf=10, NQ=1000, nev=60)\n",
    "CaptureRate.plot_potentials(cc)\n",
    "ylims!(-2, 2)\n",
    "xlims!(-10, 5)"
   ]
  },
  {
   "cell_type": "code",
   "execution_count": null,
   "metadata": {},
   "outputs": [],
   "source": [
    "CaptureRate.calc_overlap!(cc; cut_off=0.5, σ=0.025)\n",
    "T_range = 1:10:800\n",
    "c = CaptureRate.calc_capt_coeff(3.9E-2, 1.136E-21, T_range, cc)\n",
    "plot(T_range, c) # degeneracy * Sommerfeld factor\n",
    "yaxis!(\"C (cm^-3/s)\",:log10)\n",
    "xaxis!(\"T (K)\")\n",
    "ylims!(1E-10, 1E-6)"
   ]
  },
  {
   "cell_type": "code",
   "execution_count": null,
   "metadata": {},
   "outputs": [],
   "source": []
  }
 ],
 "metadata": {
  "kernelspec": {
   "display_name": "Julia 0.6.2",
   "language": "julia",
   "name": "julia-0.6"
  },
  "language_info": {
   "file_extension": ".jl",
   "mimetype": "application/julia",
   "name": "julia",
   "version": "0.6.2"
  }
 },
 "nbformat": 4,
 "nbformat_minor": 2
}
